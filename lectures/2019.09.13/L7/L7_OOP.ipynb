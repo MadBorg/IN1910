{
 "cells": [
  {
   "cell_type": "markdown",
   "metadata": {
    "slideshow": {
     "slide_type": "slide"
    }
   },
   "source": [
    "# Objekt-orientert programmering del 2"
   ]
  },
  {
   "cell_type": "markdown",
   "metadata": {
    "slideshow": {
     "slide_type": "slide"
    }
   },
   "source": [
    "## Så langt\n",
    "\n",
    "* Hvordan lage klasser\n",
    "\n",
    "* Spesielle metoder (`__init__`, `__add__` ++)\n",
    "\n"
   ]
  },
  {
   "cell_type": "markdown",
   "metadata": {
    "slideshow": {
     "slide_type": "fragment"
    }
   },
   "source": [
    "* `@properties` (+ `@func.setter`)\n",
    "\n",
    "```Python\n",
    "class Sphere:\n",
    "    def __init__(self, radius):\n",
    "        self.radius = radius\n",
    "\n",
    "    @property\n",
    "    def area(self):\n",
    "        return 4 * pi * self.radius ** 2\n",
    "\n",
    "    @area.setter\n",
    "    def area(self, area):\n",
    "        assert area >= 0, f\"Area must be non-negative, got {area:.2f}\"\n",
    "        self.radius = sqrt(area / (4 * pi))\n",
    "```"
   ]
  },
  {
   "cell_type": "markdown",
   "metadata": {
    "slideshow": {
     "slide_type": "slide"
    }
   },
   "source": [
    "## Fire pilarer innen OOP"
   ]
  },
  {
   "cell_type": "markdown",
   "metadata": {
    "slideshow": {
     "slide_type": "fragment"
    }
   },
   "source": [
    "* Abstraksjon"
   ]
  },
  {
   "cell_type": "markdown",
   "metadata": {
    "slideshow": {
     "slide_type": "fragment"
    }
   },
   "source": [
    "* Innkapsling (encapsulation)"
   ]
  },
  {
   "cell_type": "markdown",
   "metadata": {
    "slideshow": {
     "slide_type": "fragment"
    }
   },
   "source": [
    "* Polymorfisme"
   ]
  },
  {
   "cell_type": "markdown",
   "metadata": {
    "slideshow": {
     "slide_type": "fragment"
    }
   },
   "source": [
    "* Arv"
   ]
  },
  {
   "cell_type": "markdown",
   "metadata": {
    "slideshow": {
     "slide_type": "slide"
    }
   },
   "source": [
    "### Abstraksjon - Vi gjemmer info som er irrelevant for brukeren\n",
    "![cardriver](fig/cardriver.jpg)\n",
    "![Il_tempo_Gigante2.jpg](fig/Il_tempo_Gigante2.jpg)"
   ]
  },
  {
   "cell_type": "markdown",
   "metadata": {
    "slideshow": {
     "slide_type": "slide"
    }
   },
   "source": [
    "### Abstraksjon - Vi gjemmer info som er irrelevant for brukeren\n",
    "\n",
    "* Man trenger ikke å vite hvordan avanserte maskinlæringsalgoritmer er implementert for a bruke dem.\n",
    "\n",
    "* Man trenger ikke vite hvordan scipy løser ode'er for å bruke `solve_ivp`\n",
    "\n",
    "* \"Program to an interface not an implementation\"\n",
    "\n",
    "* Skriv tester først - det får deg til å tenkte over interfacet."
   ]
  },
  {
   "cell_type": "markdown",
   "metadata": {
    "slideshow": {
     "slide_type": "slide"
    }
   },
   "source": [
    "### Innkapsling - samle data og funksjonalitet\n",
    "\n",
    "* Vi håndterer hvordan data blir håndtert internt i klassen uten at brukeren trenger å bry seg om det\n",
    "* Gjør variabler / metoder som ikke brukeren trenger å vite om private"
   ]
  },
  {
   "cell_type": "markdown",
   "metadata": {
    "slideshow": {
     "slide_type": "slide"
    }
   },
   "source": [
    "#### En klasse har metoder og tilstander\n",
    "![object1](fig/object1.png)\n",
    "Image taken from http://www.corejavaguru.com/java/oop/class-object"
   ]
  },
  {
   "cell_type": "markdown",
   "metadata": {
    "slideshow": {
     "slide_type": "slide"
    }
   },
   "source": [
    "#### En sykkel\n",
    "![object1](fig/object2.png)\n",
    "Image taken from http://www.corejavaguru.com/java/oop/class-object (cadence = tråkkefrekvens)"
   ]
  },
  {
   "cell_type": "markdown",
   "metadata": {
    "slideshow": {
     "slide_type": "fragment"
    }
   },
   "source": [
    "* Ingen metode som heter `change_speed` - men vi kan endre farten ved å kalle andre metoder som endrer tilstanden"
   ]
  },
  {
   "cell_type": "markdown",
   "metadata": {
    "slideshow": {
     "slide_type": "fragment"
    }
   },
   "source": [
    "* Hvordan farten endres som en funksjon av \"gir\", \"brems\" og \"tråkke-frekvens\" er skjult for brukeren"
   ]
  },
  {
   "cell_type": "markdown",
   "metadata": {
    "slideshow": {
     "slide_type": "slide"
    }
   },
   "source": [
    "### Polymorfisme\n",
    "* Poly (mange) + morfisme (endring / funksjon)\n",
    "* Ulike implementasjoner for samme metode\n",
    "* Avhengig av input"
   ]
  },
  {
   "cell_type": "code",
   "execution_count": 9,
   "metadata": {
    "slideshow": {
     "slide_type": "fragment"
    }
   },
   "outputs": [
    {
     "name": "stdout",
     "output_type": "stream",
     "text": [
      "add(1, 2) =  3\n",
      "add([1], [2]) =  [3]\n"
     ]
    }
   ],
   "source": [
    "def add(x, y):\n",
    "    assert type(x) == type(y)\n",
    "    if isinstance(x, (float, int)):\n",
    "        return x + y\n",
    "    elif isinstance(x, list):\n",
    "        return [xi + yi for xi, yi in zip(x, y)]\n",
    "    \n",
    "print(\"add(1, 2) = \", add(1, 2))\n",
    "print(\"add([1], [2]) = \", add([1], [2]))"
   ]
  },
  {
   "cell_type": "markdown",
   "metadata": {
    "slideshow": {
     "slide_type": "fragment"
    }
   },
   "source": [
    "Merk at i C++ ville vi skrevet et funksjon for hver type input (mer om dette senere)\n",
    "```C++\n",
    "int add(int x, int y);\n",
    "\n",
    "list add(list x, list y);\n",
    "```"
   ]
  },
  {
   "cell_type": "markdown",
   "metadata": {
    "slideshow": {
     "slide_type": "slide"
    }
   },
   "source": [
    "### Arv - Vi gjenbruker funksjonalitet for å slippe å repetere oss selv\n",
    "\n",
    "* DRY (Don't Repeat Yourself)\n",
    "* Funksjonalitet som er implementert i \"parent\" klassen (og som ikke endrer seg) kan arves i \"child\" klassen\n",
    "\n"
   ]
  },
  {
   "cell_type": "markdown",
   "metadata": {
    "slideshow": {
     "slide_type": "slide"
    }
   },
   "source": [
    "## Arv i Python"
   ]
  },
  {
   "cell_type": "code",
   "execution_count": 13,
   "metadata": {
    "slideshow": {
     "slide_type": "fragment"
    }
   },
   "outputs": [],
   "source": [
    "class Parent:\n",
    "    pass\n",
    "\n",
    "class Child(Parent):\n",
    "    pass"
   ]
  },
  {
   "cell_type": "markdown",
   "metadata": {
    "slideshow": {
     "slide_type": "slide"
    }
   },
   "source": [
    "* Parabel ($c_2x^2 + c_1x + c_0$) og linje ($c_1x + c_0$)\n",
    "* Lag to klasser (en for `Line` og en for `Parabola` som har en `__init__` metode og en `__call__` metode.\n",
    "* Implementere en metode som tar 3 argumenters (`L`(left), `R`(right) og `n`) som printer ut `n` jevnt fordelte punkter mellom `L` og `R`\n",
    "* `line1.py`"
   ]
  },
  {
   "cell_type": "markdown",
   "metadata": {
    "slideshow": {
     "slide_type": "slide"
    }
   },
   "source": [
    "### Hvem skal arve fra hvem?\n",
    "\n",
    "* Er en parabel en linje?\n",
    "\n",
    "* Er en linje en parabel?\n"
   ]
  },
  {
   "cell_type": "markdown",
   "metadata": {
    "slideshow": {
     "slide_type": "fragment"
    }
   },
   "source": [
    "* En line er et spesialtilfelle av parabel der $c_2 = 0$\n",
    "* `line2.py`"
   ]
  },
  {
   "cell_type": "markdown",
   "metadata": {
    "slideshow": {
     "slide_type": "slide"
    }
   },
   "source": [
    "### Kalle på methoder fra foreldre klassen\n",
    "\n",
    "Vi kan kalle på methoder fra foreldre klassen ved å bruke navnet på klassen direkte\n",
    "\n",
    "```python\n",
    "class Child:\n",
    "    def method(self):\n",
    "        Parent.method(self)\n",
    "```\n",
    "\n",
    "eller ved å bruke `super`\n",
    "\n",
    "```python\n",
    "class Child:\n",
    "    def method(self):\n",
    "        super().method()\n",
    "```\n",
    "\n",
    "* `line3.py`"
   ]
  },
  {
   "cell_type": "markdown",
   "metadata": {
    "slideshow": {
     "slide_type": "slide"
    }
   },
   "source": [
    "### Flere lag med arv\n",
    "\n",
    "* Hvordan kalle på metoder i foreldre-klassen nå?\n",
    "* `multilevel_inhheritance1.py`\n"
   ]
  },
  {
   "cell_type": "markdown",
   "metadata": {
    "slideshow": {
     "slide_type": "slide"
    }
   },
   "source": [
    "### Hvilken foreldre klasse skal kalles?\n",
    "\n",
    "* Fordelen med å bruke `super` er at da vil python selv finne ut hvilken metode som skal kalles\n",
    "\n",
    "```python\n",
    "class GrandParent:\n",
    "    def method():\n",
    "        pass\n",
    "    \n",
    "class Parent(GrandParent):\n",
    "    pass\n",
    "\n",
    "class Child(Parent):\n",
    "    def method():\n",
    "        super().method()\n",
    "```"
   ]
  },
  {
   "cell_type": "markdown",
   "metadata": {
    "slideshow": {
     "slide_type": "slide"
    }
   },
   "source": [
    "### Arve fra flere en en klasse\n",
    "\n",
    "* I python går det også an å arve fra flere klasser som ikke er i direkte relasjon\n",
    "* Dette gjør koden ofte mer komplisert enn den trenger å være, men noen ganger er det en god idea"
   ]
  },
  {
   "cell_type": "code",
   "execution_count": 5,
   "metadata": {
    "slideshow": {
     "slide_type": "fragment"
    }
   },
   "outputs": [
    {
     "name": "stdout",
     "output_type": "stream",
     "text": [
      "Calling Cyborg constructor\n",
      "Calling Human constructur\n"
     ]
    }
   ],
   "source": [
    "class Human(object):\n",
    "    def __init__(self):\n",
    "        print(\"Calling Human constructur\")\n",
    "        \n",
    "class Machine(object):\n",
    "    def __init__(self):\n",
    "        print(\"Calling Machine constructor\")\n",
    "        \n",
    "class Cyborg(Human, Machine):\n",
    "    def __init__(self):\n",
    "        print(\"Calling Cyborg constructor\")\n",
    "        super().__init__()\n",
    "        \n",
    "c1 = Cyborg()"
   ]
  },
  {
   "cell_type": "markdown",
   "metadata": {
    "slideshow": {
     "slide_type": "fragment"
    }
   },
   "source": [
    "* Hvilken metode (i foreldreklassen som blir kalt avhenger av \"method resolution order\" (mro)"
   ]
  },
  {
   "cell_type": "code",
   "execution_count": 17,
   "metadata": {
    "slideshow": {
     "slide_type": "fragment"
    }
   },
   "outputs": [
    {
     "name": "stdout",
     "output_type": "stream",
     "text": [
      "[<class '__main__.Cyborg'>, <class '__main__.Human'>, <class '__main__.Machine'>, <class 'object'>]\n"
     ]
    }
   ],
   "source": [
    "# Legg også merke til at alle klasser arver fra `object`\n",
    "print(Cyborg.mro())"
   ]
  },
  {
   "cell_type": "markdown",
   "metadata": {
    "slideshow": {
     "slide_type": "fragment"
    }
   },
   "source": [
    "* Grunnen til `Human` kommer før `Machine` her er på grunn av rekkefølgen i argumentene `Cyborg`-klassen"
   ]
  },
  {
   "cell_type": "markdown",
   "metadata": {
    "slideshow": {
     "slide_type": "slide"
    }
   },
   "source": [
    "### Hva tror dere er \"method resolution order\" for dette eksempelet"
   ]
  },
  {
   "cell_type": "code",
   "execution_count": 7,
   "metadata": {
    "slideshow": {
     "slide_type": "fragment"
    }
   },
   "outputs": [
    {
     "name": "stdout",
     "output_type": "stream",
     "text": [
      "<class '__main__.Child'>\n",
      "<class '__main__.Parent'>\n",
      "<class '__main__.GrandParent'>\n",
      "<class 'object'>\n"
     ]
    }
   ],
   "source": [
    "class GrandParent:\n",
    "    def method():\n",
    "        pass\n",
    "    \n",
    "class Parent(GrandParent):\n",
    "    pass\n",
    "\n",
    "class Child(Parent):\n",
    "    def method():\n",
    "        super().method()\n",
    "        \n",
    "for m in Child.mro():\n",
    "    print(m)"
   ]
  },
  {
   "cell_type": "markdown",
   "metadata": {
    "slideshow": {
     "slide_type": "slide"
    }
   },
   "source": [
    "### Deres tur - hva blir printet"
   ]
  },
  {
   "cell_type": "code",
   "execution_count": 11,
   "metadata": {
    "slideshow": {
     "slide_type": "fragment"
    }
   },
   "outputs": [
    {
     "name": "stdout",
     "output_type": "stream",
     "text": [
      "a:  A::f() A::g() A::h()\n",
      "b:  A::f() A::g() B::h()\n",
      "c:  A::f() C::g() B::h()\n",
      "d:  B::h()\n"
     ]
    }
   ],
   "source": [
    "class A(object):\n",
    "    def f(self):\n",
    "        return \"A::f()\"\n",
    "    def g(self):\n",
    "        return \"A::g()\"\n",
    "    def h(self):\n",
    "        return \"A::h()\"\n",
    "    \n",
    "class B(A):\n",
    "    def h(self):\n",
    "        return \"B::h()\"\n",
    "\n",
    "class C(B):\n",
    "    def g(self):\n",
    "        return \"C::g()\"\n",
    "    \n",
    "class D(C):\n",
    "    def f(self):\n",
    "        return super().h()\n",
    "    \n",
    "a, b, c, d = A(), B(), C(), D()\n",
    "print(\"a: \", a.f(), a.g(), a.h())\n",
    "print(\"b: \", b.f(), b.g(), b.h())\n",
    "print(\"c: \", c.f(), c.g(), c.h())\n",
    "print(\"d: \", d.f())"
   ]
  },
  {
   "cell_type": "markdown",
   "metadata": {
    "slideshow": {
     "slide_type": "slide"
    }
   },
   "source": [
    "### Er det mulig å lage en klasse hvor alle subklassen er nødt til å implementere en gitt metode?\n",
    "\n",
    "```python\n",
    "class Animal:\n",
    "    def __init__(self, name):\n",
    "        self.name = name\n",
    "\n",
    "    def sound(self):\n",
    "        pass\n",
    "\n",
    "    def make_sound(self):\n",
    "        print(f\"{self.__class__.__name__} {self.name} sais {self.sound()}\")\n",
    "```\n",
    "Vi vil at alle klasser som arver fra animal skal implementere en metode av `sound`\n",
    "* `abstract_classes.py`"
   ]
  },
  {
   "cell_type": "markdown",
   "metadata": {
    "slideshow": {
     "slide_type": "slide"
    }
   },
   "source": [
    "Spørsmål til arv?"
   ]
  },
  {
   "cell_type": "markdown",
   "metadata": {
    "slideshow": {
     "slide_type": "slide"
    }
   },
   "source": [
    "### Når skal man bruke arv?\n",
    "\n",
    "I tilfeller hvor man har et \"er-en-forhold\" (\"is-a-relationship\") er arv riktig å bruke.\n"
   ]
  },
  {
   "cell_type": "markdown",
   "metadata": {
    "slideshow": {
     "slide_type": "fragment"
    }
   },
   "source": [
    "* En hund er ett dyr\n",
    "\n",
    "```python\n",
    "class Animal:\n",
    "    pass\n",
    "\n",
    "class Dog(Animal):\n",
    "    pass\n",
    "```"
   ]
  },
  {
   "cell_type": "markdown",
   "metadata": {
    "slideshow": {
     "slide_type": "slide"
    }
   },
   "source": [
    "### Når skal man ikke bruke arv?\n",
    "\n",
    "I tilfeller hvor man har et \"har-en-forhold\" (\"has-a-relationship\")"
   ]
  },
  {
   "cell_type": "markdown",
   "metadata": {
    "slideshow": {
     "slide_type": "slide"
    }
   },
   "source": [
    "* En bil har en motor\n",
    "\n",
    "```python\n",
    "class Engine:\n",
    "    pass\n",
    "\n",
    "class Car:\n",
    "    def __init__(self, engine):\n",
    "        self.engine = engine\n",
    "        \n",
    "engine = Engine()\n",
    "car = Car(engine=engine)\n",
    "```"
   ]
  },
  {
   "cell_type": "markdown",
   "metadata": {
    "slideshow": {
     "slide_type": "fragment"
    }
   },
   "source": [
    "Dette kalles for sammensetning (composition)!"
   ]
  },
  {
   "cell_type": "markdown",
   "metadata": {
    "slideshow": {
     "slide_type": "slide"
    }
   },
   "source": [
    "#### Favor object composition over class inheritance"
   ]
  },
  {
   "cell_type": "markdown",
   "metadata": {
    "slideshow": {
     "slide_type": "slide"
    }
   },
   "source": [
    "#### Bibelen innen objekt orientert programmering (Gang of Four)\n",
    "![gof](fig/gof.jpg)"
   ]
  },
  {
   "cell_type": "markdown",
   "metadata": {
    "slideshow": {
     "slide_type": "slide"
    }
   },
   "source": [
    "#### Hva er et \"design patteren\" ? "
   ]
  },
  {
   "cell_type": "markdown",
   "metadata": {
    "slideshow": {
     "slide_type": "fragment"
    }
   },
   "source": [
    "A pattern is something that you did in the past, was successful, and can be applied to multiple situations. Patterns capture experiences in software development that have been proven to work again and again, and thus provide a solution to specific problems. They are not invented. Instead, they are discovered from practical experience."
   ]
  },
  {
   "cell_type": "markdown",
   "metadata": {
    "slideshow": {
     "slide_type": "fragment"
    }
   },
   "source": [
    "When many programmers are trying to solve similar problems they arrive again and again at a solution that works best. Such a solution is later distilled into a solution template, something that we programmers then use to approach similar problems in the future. Such solution templates are often called patterns.\n",
    "\n",
    "http://bit.ly/2V819eq"
   ]
  },
  {
   "cell_type": "markdown",
   "metadata": {
    "slideshow": {
     "slide_type": "slide"
    }
   },
   "source": [
    "#### Favor object composition over class inheritance - Eksempel\n",
    "\n",
    "Vi ønsker å lage en class ModelVector som er en Vector3D med et navn\n",
    "\n",
    "* Implementer `__add__` funksjonen som også legger sammen navnene.\n",
    "* `model_vector.py`"
   ]
  },
  {
   "cell_type": "markdown",
   "metadata": {
    "slideshow": {
     "slide_type": "slide"
    }
   },
   "source": [
    "### Lyst til å lære mer om desing patterns?\n",
    "\n",
    "\n",
    "![guru](fig/guru.png)\n",
    "https://refactoring.guru"
   ]
  },
  {
   "cell_type": "markdown",
   "metadata": {
    "slideshow": {
     "slide_type": "slide"
    }
   },
   "source": [
    "## Klasse variabler (class variables)"
   ]
  },
  {
   "cell_type": "markdown",
   "metadata": {
    "slideshow": {
     "slide_type": "fragment"
    }
   },
   "source": [
    "Klasse variabler kan brukes til å\n",
    "* Holde styr på hvor mange instanser det finnes av en klasse\n",
    "* Lagre globale variabler som er de samme for hver instans"
   ]
  },
  {
   "cell_type": "markdown",
   "metadata": {
    "slideshow": {
     "slide_type": "fragment"
    }
   },
   "source": [
    "* Lag en klasse `Rabbit` som teller antall kaniner som er instansiert."
   ]
  },
  {
   "cell_type": "markdown",
   "metadata": {
    "slideshow": {
     "slide_type": "fragment"
    }
   },
   "source": [
    "* Lag en klasse `Rabbit` som teller \"appender\" alle kaniner til en liste. Kan vi bruke `self`? "
   ]
  },
  {
   "cell_type": "markdown",
   "metadata": {
    "slideshow": {
     "slide_type": "fragment"
    }
   },
   "source": [
    "* Lag en klasse `Pendulum` som har en global variable `G=9.81`\n",
    "* `class_variables.py`"
   ]
  },
  {
   "cell_type": "markdown",
   "metadata": {
    "slideshow": {
     "slide_type": "slide"
    }
   },
   "source": [
    "## Klasse metoder (class methods)"
   ]
  },
  {
   "cell_type": "markdown",
   "metadata": {
    "slideshow": {
     "slide_type": "fragment"
    }
   },
   "source": [
    "* I stedet for å lage en helt ny klasse for å lage en ny construktør kan vi i stedet klage en klasse metode.\n",
    "\n",
    "* Dette gjøres ved å dekorere funksjonen med `@classmethod`\n",
    "\n",
    "* Første argument som sendes inn er nå ikke en instans (`self`) men selve klassen.\n",
    "\n",
    "* Det er konvensjon å kalle første arguement for `cls`"
   ]
  },
  {
   "cell_type": "markdown",
   "metadata": {
    "slideshow": {
     "slide_type": "fragment"
    }
   },
   "source": [
    "* Lag en `Sphere`-klasse som tar inn volum isteden for radius.\n",
    "\n",
    "* Gjør det samme bare med `classmethod`\n",
    "\n",
    "* `classmethod.py`"
   ]
  },
  {
   "cell_type": "markdown",
   "metadata": {
    "slideshow": {
     "slide_type": "fragment"
    }
   },
   "source": [
    "Hvorfor er det ikke konvensjon å kalle første argument for `class`? "
   ]
  },
  {
   "cell_type": "markdown",
   "metadata": {
    "slideshow": {
     "slide_type": "fragment"
    }
   },
   "source": [
    "`class` er et reservert ord i python (slik som `assert`, `def`, `map`, `filter`, ++++)"
   ]
  },
  {
   "cell_type": "markdown",
   "metadata": {
    "slideshow": {
     "slide_type": "slide"
    }
   },
   "source": [
    "* Veldig typiske navn på klassemetoder er\n",
    "\n",
    "    - `from_file`\n",
    "    - `from_dict`\n",
    "    - `from_X`"
   ]
  },
  {
   "cell_type": "markdown",
   "metadata": {
    "slideshow": {
     "slide_type": "slide"
    }
   },
   "source": [
    "## Statiske metoder (static methods)\n",
    "\n",
    "* Statisk - noe som ikke endrer seg (uavhengig av instansen)\n",
    "* En statisk metode dekoreres med funksjonene @staticmethod\n",
    "* En statisk metode tar verken `self` eller `cls` som argument\n",
    "* En statisk metode er en vanlig uavhengig funksjon som sitter på klassen.\n",
    "* Brukes når vi har en funksjon som hører til en klasse\n",
    "* staticmethod.py"
   ]
  },
  {
   "cell_type": "markdown",
   "metadata": {
    "slideshow": {
     "slide_type": "slide"
    }
   },
   "source": [
    "## Namespaces og scope"
   ]
  },
  {
   "cell_type": "markdown",
   "metadata": {
    "slideshow": {
     "slide_type": "slide"
    }
   },
   "source": [
    "### Vi må ungå navn-kollisjoner\n",
    "\n",
    "<table style=\"background-color: white; width:80%\">\n",
    "    <tr>\n",
    "      <td >\n",
    "          <img src=\"fig/tbane.jpg\" width=100%>\n",
    "      </td>\n",
    "      <td >\n",
    "          <img src=\"fig/question.png\" width=100%>\n",
    "      </td>\n",
    "      <td >\n",
    "          <img src=\"fig/kart.jpg\" width=100%>\n",
    "      </td>\n",
    "    <tr>\n",
    "</table>\n",
    "\n"
   ]
  },
  {
   "cell_type": "markdown",
   "metadata": {
    "slideshow": {
     "slide_type": "slide"
    }
   },
   "source": [
    "### Hvordan holder vi styr på hvilke funksjoner vi bruker?\n",
    "\n",
    "Vi ønsker å bruke `linspace` funksjonen fra `numpy`\n"
   ]
  },
  {
   "cell_type": "markdown",
   "metadata": {
    "slideshow": {
     "slide_type": "fragment"
    }
   },
   "source": [
    "```python\n",
    "import numpy\n",
    "numpy.linspace(0, 1, 10)\n",
    "```\n",
    "lager ett namepace `numpy` som inne holder alt fra `numpy`"
   ]
  },
  {
   "cell_type": "markdown",
   "metadata": {
    "slideshow": {
     "slide_type": "fragment"
    }
   },
   "source": [
    "```python\n",
    "import numpy as np\n",
    "numpy.linspace(0, 1, 10)\n",
    "```\n",
    "Gjør det samme, men vi kaller det istedet for `np` (vi pleier å gjøre dette fordi vi er late)."
   ]
  },
  {
   "cell_type": "markdown",
   "metadata": {
    "slideshow": {
     "slide_type": "fragment"
    }
   },
   "source": [
    "```python\n",
    "from numpy import *\n",
    "linspace(0, 1, 10)\n",
    "```\n",
    "Lager ikke noe nytt namespace."
   ]
  },
  {
   "cell_type": "code",
   "execution_count": null,
   "metadata": {
    "slideshow": {
     "slide_type": "slide"
    }
   },
   "outputs": [],
   "source": [
    "from numpy import *\n",
    "def linspace(*args):\n",
    "    print(\"HAHAHA\")\n",
    "\n",
    "\n",
    "linspace(0, 1, 10)"
   ]
  },
  {
   "cell_type": "code",
   "execution_count": null,
   "metadata": {
    "slideshow": {
     "slide_type": "fragment"
    }
   },
   "outputs": [],
   "source": [
    "import numpy as np\n",
    "def linspace(*args):\n",
    "    print(\"HAHAHA\")\n",
    "\n",
    "\n",
    "np.linspace(0, 1, 10)"
   ]
  },
  {
   "cell_type": "markdown",
   "metadata": {
    "slideshow": {
     "slide_type": "slide"
    }
   },
   "source": [
    "### Variabler vi definert inne i en funksjon frigjøres fra minne når funksjonen er ferdig"
   ]
  },
  {
   "cell_type": "code",
   "execution_count": 12,
   "metadata": {
    "slideshow": {
     "slide_type": "fragment"
    }
   },
   "outputs": [
    {
     "name": "stdout",
     "output_type": "stream",
     "text": [
      "706.85775\n"
     ]
    }
   ],
   "source": [
    "def pancake_area():\n",
    "    pi = 3.14159\n",
    "    r = 15\n",
    "    \n",
    "    return pi*r**2\n",
    "\n",
    "print(pancake_area())\n",
    "\n",
    "# Fungerer ikke\n",
    "#print(r)\n",
    "    \n",
    "    "
   ]
  },
  {
   "cell_type": "markdown",
   "metadata": {
    "slideshow": {
     "slide_type": "slide"
    }
   },
   "source": [
    "### Funksjoner kan lese globale variabler men ikke direkte endre dem"
   ]
  },
  {
   "cell_type": "code",
   "execution_count": 13,
   "metadata": {
    "slideshow": {
     "slide_type": "fragment"
    }
   },
   "outputs": [
    {
     "name": "stdout",
     "output_type": "stream",
     "text": [
      "706.85775\n",
      "10\n"
     ]
    }
   ],
   "source": [
    "pi = 3.14159\n",
    "r = 10\n",
    "\n",
    "def pancake_area():\n",
    "    r = 15 #creates a new local variable\n",
    "    \n",
    "    return pi*r**2 #here r is local, pi is global\n",
    "\n",
    "print(pancake_area())\n",
    "\n",
    "print(r) #prints the global r"
   ]
  },
  {
   "cell_type": "markdown",
   "metadata": {
    "slideshow": {
     "slide_type": "slide"
    }
   },
   "source": [
    "### Hvis vi ønsker å endre en global variabel inne i en funksjon kan du bruke `global`\n",
    "MEN DETTE ER GENERELT IKKE ANBEFALT Å GJØRE"
   ]
  },
  {
   "cell_type": "code",
   "execution_count": 14,
   "metadata": {
    "slideshow": {
     "slide_type": "fragment"
    }
   },
   "outputs": [
    {
     "name": "stdout",
     "output_type": "stream",
     "text": [
      "141.37155\n",
      "15\n"
     ]
    }
   ],
   "source": [
    "pi = 3.14159\n",
    "r = 10\n",
    "\n",
    "\n",
    "def pancake_volume():\n",
    "    global r \n",
    "    r = 15\n",
    "    thickness = 0.2\n",
    "    \n",
    "    return pi*r**2*thickness\n",
    "\n",
    "print(pancake_volume())\n",
    "\n",
    "print(r) #now r is changed"
   ]
  },
  {
   "cell_type": "markdown",
   "metadata": {
    "slideshow": {
     "slide_type": "slide"
    }
   },
   "source": [
    "### Vi kan bruke dette dersom vi ønsker å telle antall ganger en funksjon blir kalt"
   ]
  },
  {
   "cell_type": "code",
   "execution_count": 15,
   "metadata": {
    "slideshow": {
     "slide_type": "fragment"
    }
   },
   "outputs": [
    {
     "name": "stdout",
     "output_type": "stream",
     "text": [
      "3\n"
     ]
    }
   ],
   "source": [
    "no_function_calls = 0\n",
    "\n",
    "def expensive_func():\n",
    "    global no_function_calls\n",
    "    no_function_calls += 1\n",
    "    \"\"\"\n",
    "    Some massive computation\n",
    "    \"\"\"   \n",
    "    return None\n",
    "\n",
    "for i in range(3):\n",
    "    expensive_func()\n",
    "    \n",
    "    \n",
    "print(no_function_calls)"
   ]
  },
  {
   "cell_type": "markdown",
   "metadata": {
    "slideshow": {
     "slide_type": "slide"
    }
   },
   "source": [
    "### Nestede funksjoner har tilgang til variabler utenfor sitt scope\n"
   ]
  },
  {
   "cell_type": "code",
   "execution_count": 20,
   "metadata": {
    "scrolled": true,
    "slideshow": {
     "slide_type": "fragment"
    }
   },
   "outputs": [
    {
     "name": "stdout",
     "output_type": "stream",
     "text": [
      "1\n",
      "Calling fun1\n",
      "1\n",
      "2\n",
      "Calling fun21\n",
      "1\n",
      "2\n",
      "3\n",
      "Calling fun22\n",
      "1\n",
      "2\n",
      "4\n"
     ]
    }
   ],
   "source": [
    "a0 = 1\n",
    "def fun1():\n",
    "    print(\"Calling fun1\")\n",
    "    a1 = 2\n",
    "    print(a0)\n",
    "    print(a1)\n",
    "    # Fungerer ikke\n",
    "    # print(a21)\n",
    "    # print(a22)\n",
    "    \n",
    "    def fun21():\n",
    "        print(\"Calling fun21\")\n",
    "        a21 = 3\n",
    "        print(a0)\n",
    "        print(a1)\n",
    "        print(a21)\n",
    "        # Fungerer ikke\n",
    "        # print(a22)\n",
    "        \n",
    "    def fun22():\n",
    "        print(\"Calling fun22\")\n",
    "        a22 = 4\n",
    "        print(a0)\n",
    "        print(a1)\n",
    "        print(a22)\n",
    "        # Fungerer ikke\n",
    "        # print(a21)\n",
    "        \n",
    "    fun21()\n",
    "    fun22()\n",
    "\n",
    "print(\"Global scope\")\n",
    "print(a0)\n",
    "# Fungerer ikke\n",
    "#print(a1)\n",
    "# print(a21)\n",
    "# print(a22)\n",
    "\n",
    "fun1()\n",
    "    "
   ]
  },
  {
   "cell_type": "markdown",
   "metadata": {
    "slideshow": {
     "slide_type": "slide"
    }
   },
   "source": [
    "### Hva som er globalt og lokalt er largret i  `locals` og `globals` dictionaries"
   ]
  },
  {
   "cell_type": "code",
   "execution_count": 27,
   "metadata": {
    "slideshow": {
     "slide_type": "fragment"
    }
   },
   "outputs": [
    {
     "name": "stdout",
     "output_type": "stream",
     "text": [
      "Global scope\n",
      "locals() == globals():  True\n",
      "Calling fun1\n",
      "locals() == globals():  False\n",
      "['a1']\n",
      "Calling fun21\n",
      "locals() == globals():  False\n",
      "['a21']\n",
      "Calling fun22\n",
      "locals() == globals():  False\n",
      "['a22']\n"
     ]
    }
   ],
   "source": [
    "a0 = 1\n",
    "def fun1():\n",
    "    print(\"Calling fun1\")\n",
    "    a1 = 2\n",
    "    print(\"locals() == globals(): \", locals() == globals())\n",
    "    print([k for k in locals() if k not in globals()])\n",
    "\n",
    "    def fun21():\n",
    "        print(\"Calling fun21\")\n",
    "        a21 = 3\n",
    "        print(\"locals() == globals(): \", locals() == globals())\n",
    "        print([k for k in locals() if k not in globals()])\n",
    "        \n",
    "    def fun22():\n",
    "        print(\"Calling fun22\")\n",
    "        a22 = 4\n",
    "        print(\"locals() == globals(): \", locals() == globals())\n",
    "        print([k for k in locals() if k not in globals()])\n",
    "\n",
    "    fun21()\n",
    "    fun22()\n",
    "\n",
    "print(\"Global scope\")\n",
    "print(\"locals() == globals(): \", locals() == globals())\n",
    "fun1()\n",
    "    "
   ]
  },
  {
   "cell_type": "markdown",
   "metadata": {
    "slideshow": {
     "slide_type": "slide"
    }
   },
   "source": [
    "### Alternative måte a deklarere variabler på"
   ]
  },
  {
   "cell_type": "code",
   "execution_count": 30,
   "metadata": {
    "slideshow": {
     "slide_type": "fragment"
    }
   },
   "outputs": [
    {
     "name": "stdout",
     "output_type": "stream",
     "text": [
      "0\n"
     ]
    }
   ],
   "source": [
    "globals()[\"my_global_variable\"] = 0\n",
    "print(my_global_variable)"
   ]
  },
  {
   "cell_type": "markdown",
   "metadata": {
    "slideshow": {
     "slide_type": "fragment"
    }
   },
   "source": [
    "IKKE GJØRE DETTE! :)"
   ]
  },
  {
   "cell_type": "markdown",
   "metadata": {
    "slideshow": {
     "slide_type": "slide"
    }
   },
   "source": [
    "### Closure\n",
    "\n",
    "Anta at vi ønsker å lage en funksjon som tar inn en utgangshastighet og returnerer høyden etter ett gitt tidspunkt.\n",
    "Dette kan vi implemetere som en klasse"
   ]
  },
  {
   "cell_type": "code",
   "execution_count": 33,
   "metadata": {
    "slideshow": {
     "slide_type": "fragment"
    }
   },
   "outputs": [
    {
     "name": "stdout",
     "output_type": "stream",
     "text": [
      "0.00 0.00\n",
      "0.05 0.24\n",
      "0.10 0.45\n",
      "0.15 0.64\n",
      "0.20 0.80\n"
     ]
    }
   ],
   "source": [
    "class ThrowClass:\n",
    "    def __init__(self,v0):\n",
    "        self.v0 = v0\n",
    "        self.g = 9.81\n",
    "        \n",
    "    def __call__(self,t):\n",
    "        return self.v0*t-0.5*self.g*t**2\n",
    "    \n",
    "\n",
    "throw1 = ThrowClass(v0=5.0)\n",
    "\n",
    "for i in range(5):\n",
    "    t = i*0.05\n",
    "    print(f'{t:.2f} {throw1(t):.2f}')\n",
    "\n"
   ]
  },
  {
   "cell_type": "markdown",
   "metadata": {
    "slideshow": {
     "slide_type": "slide"
    }
   },
   "source": [
    "Men det går også an å implementere dette som en nestet funksjon"
   ]
  },
  {
   "cell_type": "code",
   "execution_count": 32,
   "metadata": {
    "slideshow": {
     "slide_type": "fragment"
    }
   },
   "outputs": [
    {
     "name": "stdout",
     "output_type": "stream",
     "text": [
      "0.00 0.00\n",
      "0.05 0.24\n",
      "0.10 0.45\n",
      "0.15 0.64\n",
      "0.20 0.80\n"
     ]
    }
   ],
   "source": [
    "def throw_fun(v0):\n",
    "    g = 9.81\n",
    "    def height(t):\n",
    "        return v0*t -0.5*g*t**2\n",
    "    \n",
    "    return height \n",
    "\n",
    "throw2 = throw_fun(5.0)\n",
    "\n",
    "for i in range(5):\n",
    "    t = i*0.05\n",
    "    print(f'{t:.2f} {throw2(t):.2f}')\n"
   ]
  },
  {
   "cell_type": "markdown",
   "metadata": {
    "slideshow": {
     "slide_type": "fragment"
    }
   },
   "source": [
    "Dette er mulig siden `height` har tilgang til varibler inne it `throw_fun`"
   ]
  },
  {
   "cell_type": "markdown",
   "metadata": {
    "slideshow": {
     "slide_type": "fragment"
    }
   },
   "source": [
    "`throw_fun` tar inn en starthastighet (`v0`) og returnerer en funksjon `height` som igjen tar et argument `t`"
   ]
  },
  {
   "cell_type": "markdown",
   "metadata": {
    "slideshow": {
     "slide_type": "slide"
    }
   },
   "source": [
    "### La oss lage en funksjon som printer hvor lang tid funksjonen tar"
   ]
  },
  {
   "cell_type": "code",
   "execution_count": 42,
   "metadata": {
    "slideshow": {
     "slide_type": "fragment"
    }
   },
   "outputs": [
    {
     "name": "stdout",
     "output_type": "stream",
     "text": [
      "Calling new_function\n",
      "Calling func\n",
      "Elapsed time 0.22724127769470215\n"
     ]
    }
   ],
   "source": [
    "import time\n",
    "\n",
    "def timed_function(func):\n",
    "    \n",
    "    def new_function(*args, **kwargs):\n",
    "        print(\"Calling new_function\")\n",
    "        t0 = time.time()\n",
    "        func(*args, **kwargs)\n",
    "        t1 = time.time()\n",
    "        print(f\"Elapsed time {t1 - t0}\")\n",
    "\n",
    "    return new_function\n",
    "\n",
    "def func(N):\n",
    "    print(\"Calling func\")\n",
    "    for _ in range(N):\n",
    "        pass\n",
    "\n",
    "f = timed_function(func)\n",
    "f(10000000)"
   ]
  },
  {
   "cell_type": "markdown",
   "metadata": {
    "slideshow": {
     "slide_type": "slide"
    }
   },
   "source": [
    "### Dette er slik en dekorator funker"
   ]
  },
  {
   "cell_type": "code",
   "execution_count": 44,
   "metadata": {},
   "outputs": [
    {
     "name": "stdout",
     "output_type": "stream",
     "text": [
      "Calling new_function\n",
      "Calling decorated_function\n",
      "Elapsed time 0.0002510547637939453\n"
     ]
    }
   ],
   "source": [
    "@timed_function\n",
    "def decorated_function(N):\n",
    "    print(\"Calling decorated_function\")\n",
    "    for _ in range(N):\n",
    "        pass\n",
    "    \n",
    "g = decorated_function(10000)"
   ]
  },
  {
   "cell_type": "code",
   "execution_count": null,
   "metadata": {},
   "outputs": [],
   "source": []
  }
 ],
 "metadata": {
  "celltoolbar": "Slideshow",
  "kernelspec": {
   "display_name": "Python 3",
   "language": "python",
   "name": "python3"
  },
  "language_info": {
   "codemirror_mode": {
    "name": "ipython",
    "version": 3
   },
   "file_extension": ".py",
   "mimetype": "text/x-python",
   "name": "python",
   "nbconvert_exporter": "python",
   "pygments_lexer": "ipython3",
   "version": "3.7.3"
  }
 },
 "nbformat": 4,
 "nbformat_minor": 2
}
